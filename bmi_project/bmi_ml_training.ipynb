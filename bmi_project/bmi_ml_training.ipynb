{
 "cells": [
  {
   "cell_type": "markdown",
   "id": "cd66d71a",
   "metadata": {},
   "source": [
    "\n",
    "# 🧠 BMI Training (Classic ML) — EfficientNetB0 Embeddings + Numeric Features\n",
    "\n",
    "This notebook trains **classic ML regressors** (Linear, Ridge, Lasso, DecisionTree, RandomForest, XGB if available)\n",
    "using **EfficientNetB0 embeddings** + numeric features (`Height_cm`, `Weight_kg`, `Age`).\n"
   ]
  },
  {
   "cell_type": "code",
   "execution_count": 1,
   "id": "a124dc7a",
   "metadata": {},
   "outputs": [],
   "source": [
    "\n",
    "# Install dependencies if needed\n",
    "# !pip install tensorflow pillow pandas numpy scikit-learn xgboost matplotlib tqdm joblib\n"
   ]
  },
  {
   "cell_type": "code",
   "execution_count": 2,
   "id": "5bdaae71",
   "metadata": {},
   "outputs": [
    {
     "name": "stdout",
     "output_type": "stream",
     "text": [
      "libraries loaded successfully.\n"
     ]
    }
   ],
   "source": [
    "\n",
    "import os, math, json, joblib, numpy as np, pandas as pd\n",
    "from tqdm import tqdm\n",
    "from sklearn.model_selection import train_test_split\n",
    "from sklearn.preprocessing import StandardScaler\n",
    "from sklearn.metrics import r2_score, mean_absolute_error, mean_squared_error, classification_report, accuracy_score\n",
    "from sklearn.linear_model import LinearRegression, Ridge, Lasso\n",
    "from sklearn.tree import DecisionTreeRegressor\n",
    "from sklearn.ensemble import RandomForestRegressor\n",
    "\n",
    "try:\n",
    "    from xgboost import XGBRegressor\n",
    "    XGB_AVAILABLE = True\n",
    "except Exception:\n",
    "    XGB_AVAILABLE = False\n",
    "\n",
    "import tensorflow as tf\n",
    "from tensorflow.keras.applications import EfficientNetB0\n",
    "from tensorflow.keras.applications.efficientnet import preprocess_input\n",
    "from tensorflow.keras.preprocessing.image import load_img, img_to_array\n",
    "\n",
    "import matplotlib.pyplot as plt\n",
    "from pathlib import Path\n",
    "\n",
    "print(\"libraries loaded successfully.\")\n"
   ]
  },
  {
   "cell_type": "code",
   "execution_count": 3,
   "id": "f8de6c1d",
   "metadata": {},
   "outputs": [],
   "source": [
    "\n",
    "# Config\n",
    "CSV_PATH = 'bmi.csv'\n",
    "IMAGE_DIR = 'dataset/Celeb-FBI Dataset'\n",
    "IMAGE_SIZE = (224, 224)\n",
    "NUMERIC_COLS = ['Height_cm', 'Weight_kg', 'Age']\n",
    "os.makedirs('models', exist_ok=True)\n",
    "os.makedirs('artifacts', exist_ok=True)\n"
   ]
  },
  {
   "cell_type": "code",
   "execution_count": 4,
   "id": "463c4cbc",
   "metadata": {},
   "outputs": [
    {
     "name": "stdout",
     "output_type": "stream",
     "text": [
      "✅ Loaded 6222 rows\n"
     ]
    },
    {
     "data": {
      "text/html": [
       "<div>\n",
       "<style scoped>\n",
       "    .dataframe tbody tr th:only-of-type {\n",
       "        vertical-align: middle;\n",
       "    }\n",
       "\n",
       "    .dataframe tbody tr th {\n",
       "        vertical-align: top;\n",
       "    }\n",
       "\n",
       "    .dataframe thead th {\n",
       "        text-align: right;\n",
       "    }\n",
       "</style>\n",
       "<table border=\"1\" class=\"dataframe\">\n",
       "  <thead>\n",
       "    <tr style=\"text-align: right;\">\n",
       "      <th></th>\n",
       "      <th>Filename</th>\n",
       "      <th>Filename2</th>\n",
       "      <th>Height_cm</th>\n",
       "      <th>Weight_kg</th>\n",
       "      <th>BMI</th>\n",
       "      <th>Age</th>\n",
       "      <th>ImagePath</th>\n",
       "    </tr>\n",
       "  </thead>\n",
       "  <tbody>\n",
       "    <tr>\n",
       "      <th>0</th>\n",
       "      <td>D:\\FBI CELEBS\\Celeb-FBI Dataset\\303_5.1h_54w_f...</td>\n",
       "      <td>303_5.1h_54w_female_45a.png</td>\n",
       "      <td>154.94</td>\n",
       "      <td>54.0</td>\n",
       "      <td>22.493998</td>\n",
       "      <td>45.0</td>\n",
       "      <td>dataset/Celeb-FBI Dataset\\303_5.1h_54w_female_...</td>\n",
       "    </tr>\n",
       "    <tr>\n",
       "      <th>1</th>\n",
       "      <td>D:\\FBI CELEBS\\Celeb-FBI Dataset\\304_5.9h_70w_f...</td>\n",
       "      <td>304_5.9h_70w_female_31a.png</td>\n",
       "      <td>175.26</td>\n",
       "      <td>70.0</td>\n",
       "      <td>22.789376</td>\n",
       "      <td>31.0</td>\n",
       "      <td>dataset/Celeb-FBI Dataset\\304_5.9h_70w_female_...</td>\n",
       "    </tr>\n",
       "    <tr>\n",
       "      <th>2</th>\n",
       "      <td>D:\\FBI CELEBS\\Celeb-FBI Dataset\\305_5.11h_60w_...</td>\n",
       "      <td>305_5.11h_60w_female_29a.png</td>\n",
       "      <td>155.19</td>\n",
       "      <td>60.0</td>\n",
       "      <td>24.912871</td>\n",
       "      <td>29.0</td>\n",
       "      <td>dataset/Celeb-FBI Dataset\\305_5.11h_60w_female...</td>\n",
       "    </tr>\n",
       "    <tr>\n",
       "      <th>3</th>\n",
       "      <td>D:\\FBI CELEBS\\Celeb-FBI Dataset\\308_5.5h_53w_f...</td>\n",
       "      <td>308_5.5h_53w_female_30a.png</td>\n",
       "      <td>165.10</td>\n",
       "      <td>53.0</td>\n",
       "      <td>19.443826</td>\n",
       "      <td>30.0</td>\n",
       "      <td>dataset/Celeb-FBI Dataset\\308_5.5h_53w_female_...</td>\n",
       "    </tr>\n",
       "    <tr>\n",
       "      <th>4</th>\n",
       "      <td>D:\\FBI CELEBS\\Celeb-FBI Dataset\\309_5.8h_68w_f...</td>\n",
       "      <td>309_5.8h_68w_female_35a.png</td>\n",
       "      <td>172.72</td>\n",
       "      <td>68.0</td>\n",
       "      <td>22.794163</td>\n",
       "      <td>35.0</td>\n",
       "      <td>dataset/Celeb-FBI Dataset\\309_5.8h_68w_female_...</td>\n",
       "    </tr>\n",
       "  </tbody>\n",
       "</table>\n",
       "</div>"
      ],
      "text/plain": [
       "                                            Filename  \\\n",
       "0  D:\\FBI CELEBS\\Celeb-FBI Dataset\\303_5.1h_54w_f...   \n",
       "1  D:\\FBI CELEBS\\Celeb-FBI Dataset\\304_5.9h_70w_f...   \n",
       "2  D:\\FBI CELEBS\\Celeb-FBI Dataset\\305_5.11h_60w_...   \n",
       "3  D:\\FBI CELEBS\\Celeb-FBI Dataset\\308_5.5h_53w_f...   \n",
       "4  D:\\FBI CELEBS\\Celeb-FBI Dataset\\309_5.8h_68w_f...   \n",
       "\n",
       "                      Filename2  Height_cm  Weight_kg        BMI   Age  \\\n",
       "0   303_5.1h_54w_female_45a.png     154.94       54.0  22.493998  45.0   \n",
       "1   304_5.9h_70w_female_31a.png     175.26       70.0  22.789376  31.0   \n",
       "2  305_5.11h_60w_female_29a.png     155.19       60.0  24.912871  29.0   \n",
       "3   308_5.5h_53w_female_30a.png     165.10       53.0  19.443826  30.0   \n",
       "4   309_5.8h_68w_female_35a.png     172.72       68.0  22.794163  35.0   \n",
       "\n",
       "                                           ImagePath  \n",
       "0  dataset/Celeb-FBI Dataset\\303_5.1h_54w_female_...  \n",
       "1  dataset/Celeb-FBI Dataset\\304_5.9h_70w_female_...  \n",
       "2  dataset/Celeb-FBI Dataset\\305_5.11h_60w_female...  \n",
       "3  dataset/Celeb-FBI Dataset\\308_5.5h_53w_female_...  \n",
       "4  dataset/Celeb-FBI Dataset\\309_5.8h_68w_female_...  "
      ]
     },
     "execution_count": 4,
     "metadata": {},
     "output_type": "execute_result"
    }
   ],
   "source": [
    "\n",
    "# Load and clean data\n",
    "df = pd.read_csv(CSV_PATH)\n",
    "df['Filename2'] = df['Filename2'].astype(str).str.strip()\n",
    "df['ImagePath'] = df['Filename2'].apply(lambda x: os.path.join(IMAGE_DIR, x))\n",
    "df = df[df['ImagePath'].apply(os.path.exists)].dropna(subset=['BMI']).reset_index(drop=True)\n",
    "for c in NUMERIC_COLS:\n",
    "    df[c] = df[c].fillna(df[c].median())\n",
    "print(\"✅ Loaded\", len(df), \"rows\")\n",
    "df.head()\n"
   ]
  },
  {
   "cell_type": "code",
   "execution_count": 5,
   "id": "d1e6d99e",
   "metadata": {},
   "outputs": [
    {
     "name": "stdout",
     "output_type": "stream",
     "text": [
      "⚠️ Grayscale image mix detected — using untrained EfficientNet weights.\n",
      "📂 Loading cached embeddings: artifacts\\effnet_embeddings.npy\n",
      "✅ Embeddings shape: (6222, 1280)\n"
     ]
    }
   ],
   "source": [
    "# --- Feature extraction via EfficientNetB0 ---\n",
    "try:\n",
    "    base_model = EfficientNetB0(\n",
    "        weights=\"imagenet\",\n",
    "        include_top=False,\n",
    "        pooling=\"avg\",\n",
    "        input_shape=(224, 224, 3)\n",
    "    )\n",
    "except ValueError:\n",
    "    # fallback if grayscale mixup triggers pretrained mismatch\n",
    "    print(\"⚠️ Grayscale image mix detected — using untrained EfficientNet weights.\")\n",
    "    base_model = EfficientNetB0(\n",
    "        weights=None,\n",
    "        include_top=False,\n",
    "        pooling=\"avg\",\n",
    "        input_shape=(224, 224, 3)\n",
    "    )\n",
    "\n",
    "def extract_embeddings(paths):\n",
    "    feats = []\n",
    "    for p in tqdm(paths, desc=\"Extracting embeddings\"):\n",
    "        try:\n",
    "            img = load_img(p, target_size=(224, 224))  # Pillow auto-detects and we'll fix mode below\n",
    "            if img.mode != \"RGB\":\n",
    "                img = img.convert(\"RGB\")  # force RGB here\n",
    "            arr = img_to_array(img)\n",
    "            arr = np.expand_dims(arr, 0)\n",
    "            arr = preprocess_input(arr)\n",
    "            feat = base_model.predict(arr, verbose=0)\n",
    "            feats.append(feat[0])\n",
    "        except Exception as e:\n",
    "            print(f\"⚠️ {p} skipped: {e}\")\n",
    "            feats.append(np.zeros((1280,)))\n",
    "    return np.array(feats)\n",
    "\n",
    "# Cache embeddings to speed up re-runs\n",
    "emb_cache = Path(\"artifacts/effnet_embeddings.npy\")\n",
    "if emb_cache.exists():\n",
    "    print(\"📂 Loading cached embeddings:\", emb_cache)\n",
    "    embeddings = np.load(emb_cache)\n",
    "else:\n",
    "    embeddings = extract_embeddings(df[\"ImagePath\"])\n",
    "    np.save(emb_cache, embeddings)\n",
    "    print(\"💾 Saved embeddings to:\", emb_cache)\n",
    "\n",
    "print(\"✅ Embeddings shape:\", embeddings.shape)\n"
   ]
  },
  {
   "cell_type": "code",
   "execution_count": 6,
   "id": "fc69845f",
   "metadata": {},
   "outputs": [
    {
     "name": "stdout",
     "output_type": "stream",
     "text": [
      "Train: (4977, 1283) Val: (1245, 1283)\n"
     ]
    }
   ],
   "source": [
    "\n",
    "# Combine embeddings + numeric features\n",
    "num_scaler = StandardScaler()\n",
    "X_num = num_scaler.fit_transform(df[NUMERIC_COLS])\n",
    "joblib.dump(num_scaler, 'models/numeric_scaler.pkl')\n",
    "\n",
    "X = np.hstack([embeddings, X_num])\n",
    "y = df['BMI'].values\n",
    "\n",
    "X_train, X_val, y_train, y_val = train_test_split(X, y, test_size=0.2, random_state=42)\n",
    "print(\"Train:\", X_train.shape, \"Val:\", X_val.shape)\n"
   ]
  },
  {
   "cell_type": "code",
   "execution_count": 7,
   "id": "b767bade",
   "metadata": {},
   "outputs": [
    {
     "data": {
      "text/plain": [
       "['models/feature_scaler.pkl']"
      ]
     },
     "execution_count": 7,
     "metadata": {},
     "output_type": "execute_result"
    }
   ],
   "source": [
    "\n",
    "# Scale for linear models\n",
    "feat_scaler = StandardScaler()\n",
    "X_train_scaled = feat_scaler.fit_transform(X_train)\n",
    "X_val_scaled = feat_scaler.transform(X_val)\n",
    "joblib.dump(feat_scaler, 'models/feature_scaler.pkl')\n"
   ]
  },
  {
   "cell_type": "code",
   "execution_count": 8,
   "id": "72a72ebc",
   "metadata": {},
   "outputs": [
    {
     "name": "stdout",
     "output_type": "stream",
     "text": [
      "\n",
      "🧠 Training LinearRegression...\n",
      "LinearRegression: R²=0.9689, MAE=0.599, RMSE=0.880\n",
      "\n",
      "🧠 Training RidgeRegression...\n",
      "RidgeRegression: R²=0.9763, MAE=0.481, RMSE=0.769\n",
      "\n",
      "🧠 Training LassoRegression...\n"
     ]
    },
    {
     "name": "stderr",
     "output_type": "stream",
     "text": [
      "c:\\Users\\7gnik\\AppData\\Local\\Programs\\Python\\Python313\\Lib\\site-packages\\sklearn\\linear_model\\_coordinate_descent.py:695: ConvergenceWarning: Objective did not converge. You might want to increase the number of iterations, check the scale of the features or consider increasing regularisation. Duality gap: 1.239e+01, tolerance: 1.084e+01\n",
      "  model = cd_fast.enet_coordinate_descent(\n"
     ]
    },
    {
     "name": "stdout",
     "output_type": "stream",
     "text": [
      "LassoRegression: R²=0.9764, MAE=0.477, RMSE=0.766\n",
      "\n",
      "🧠 Training DecisionTree...\n",
      "DecisionTree: R²=0.9259, MAE=0.245, RMSE=1.358\n",
      "\n",
      "🧠 Training RandomForest...\n",
      "RandomForest: R²=0.9579, MAE=0.174, RMSE=1.024\n",
      "\n",
      "🧠 Training XGBRegressor...\n",
      "XGBRegressor: R²=0.9703, MAE=0.135, RMSE=0.859\n"
     ]
    }
   ],
   "source": [
    "\n",
    "# Train classic ML regressors\n",
    "models = {\n",
    "    \"LinearRegression\": LinearRegression(),\n",
    "    \"RidgeRegression\": Ridge(alpha=1.0),\n",
    "    \"LassoRegression\": Lasso(alpha=0.0005, max_iter=10000),\n",
    "    \"DecisionTree\": DecisionTreeRegressor(random_state=42),\n",
    "    \"RandomForest\": RandomForestRegressor(n_estimators=400, random_state=42, n_jobs=-1),\n",
    "}\n",
    "if XGB_AVAILABLE:\n",
    "    models[\"XGBRegressor\"] = XGBRegressor(n_estimators=400, learning_rate=0.05, max_depth=7, n_jobs=-1, random_state=42)\n",
    "\n",
    "results = []\n",
    "for name, mdl in models.items():\n",
    "    print(f\"\\n🧠 Training {name}...\")\n",
    "    use_scaled = name in ['LinearRegression','RidgeRegression','LassoRegression']\n",
    "    Xtr, Xva = (X_train_scaled if use_scaled else X_train), (X_val_scaled if use_scaled else X_val)\n",
    "    mdl.fit(Xtr, y_train)\n",
    "    preds = mdl.predict(Xva)\n",
    "    r2 = r2_score(y_val, preds)\n",
    "    mae = mean_absolute_error(y_val, preds)\n",
    "    rmse = math.sqrt(mean_squared_error(y_val, preds))\n",
    "    print(f\"{name}: R²={r2:.4f}, MAE={mae:.3f}, RMSE={rmse:.3f}\")\n",
    "    results.append([name,r2,mae,rmse])\n"
   ]
  },
  {
   "cell_type": "code",
   "execution_count": 9,
   "id": "68a7a4df",
   "metadata": {},
   "outputs": [
    {
     "name": "stdout",
     "output_type": "stream",
     "text": [
      "\n",
      "✅ Best model: LassoRegression\n"
     ]
    },
    {
     "data": {
      "text/html": [
       "<div>\n",
       "<style scoped>\n",
       "    .dataframe tbody tr th:only-of-type {\n",
       "        vertical-align: middle;\n",
       "    }\n",
       "\n",
       "    .dataframe tbody tr th {\n",
       "        vertical-align: top;\n",
       "    }\n",
       "\n",
       "    .dataframe thead th {\n",
       "        text-align: right;\n",
       "    }\n",
       "</style>\n",
       "<table border=\"1\" class=\"dataframe\">\n",
       "  <thead>\n",
       "    <tr style=\"text-align: right;\">\n",
       "      <th></th>\n",
       "      <th>Model</th>\n",
       "      <th>R2</th>\n",
       "      <th>MAE</th>\n",
       "      <th>RMSE</th>\n",
       "    </tr>\n",
       "  </thead>\n",
       "  <tbody>\n",
       "    <tr>\n",
       "      <th>2</th>\n",
       "      <td>LassoRegression</td>\n",
       "      <td>0.976436</td>\n",
       "      <td>0.476594</td>\n",
       "      <td>0.765723</td>\n",
       "    </tr>\n",
       "    <tr>\n",
       "      <th>1</th>\n",
       "      <td>RidgeRegression</td>\n",
       "      <td>0.976261</td>\n",
       "      <td>0.481421</td>\n",
       "      <td>0.768555</td>\n",
       "    </tr>\n",
       "    <tr>\n",
       "      <th>5</th>\n",
       "      <td>XGBRegressor</td>\n",
       "      <td>0.970319</td>\n",
       "      <td>0.135354</td>\n",
       "      <td>0.859375</td>\n",
       "    </tr>\n",
       "    <tr>\n",
       "      <th>0</th>\n",
       "      <td>LinearRegression</td>\n",
       "      <td>0.968875</td>\n",
       "      <td>0.599285</td>\n",
       "      <td>0.880030</td>\n",
       "    </tr>\n",
       "    <tr>\n",
       "      <th>4</th>\n",
       "      <td>RandomForest</td>\n",
       "      <td>0.957864</td>\n",
       "      <td>0.173612</td>\n",
       "      <td>1.023940</td>\n",
       "    </tr>\n",
       "    <tr>\n",
       "      <th>3</th>\n",
       "      <td>DecisionTree</td>\n",
       "      <td>0.925918</td>\n",
       "      <td>0.245251</td>\n",
       "      <td>1.357695</td>\n",
       "    </tr>\n",
       "  </tbody>\n",
       "</table>\n",
       "</div>"
      ],
      "text/plain": [
       "              Model        R2       MAE      RMSE\n",
       "2   LassoRegression  0.976436  0.476594  0.765723\n",
       "1   RidgeRegression  0.976261  0.481421  0.768555\n",
       "5      XGBRegressor  0.970319  0.135354  0.859375\n",
       "0  LinearRegression  0.968875  0.599285  0.880030\n",
       "4      RandomForest  0.957864  0.173612  1.023940\n",
       "3      DecisionTree  0.925918  0.245251  1.357695"
      ]
     },
     "execution_count": 9,
     "metadata": {},
     "output_type": "execute_result"
    }
   ],
   "source": [
    "\n",
    "res = pd.DataFrame(results, columns=['Model','R2','MAE','RMSE']).sort_values(by='R2', ascending=False)\n",
    "best_model_name = res.iloc[0]['Model']\n",
    "print(\"\\n✅ Best model:\", best_model_name)\n",
    "res\n"
   ]
  },
  {
   "cell_type": "code",
   "execution_count": 10,
   "id": "563f990d",
   "metadata": {},
   "outputs": [
    {
     "name": "stdout",
     "output_type": "stream",
     "text": [
      "✅ Saved: models/LassoRegression_bmi.pkl\n"
     ]
    }
   ],
   "source": [
    "\n",
    "# Save best model\n",
    "best_model = models[best_model_name]\n",
    "joblib.dump(best_model, f\"models/{best_model_name}_bmi.pkl\")\n",
    "print(\"✅ Saved:\", f\"models/{best_model_name}_bmi.pkl\")\n"
   ]
  },
  {
   "cell_type": "code",
   "execution_count": null,
   "id": "c53b86b5",
   "metadata": {},
   "outputs": [],
   "source": []
  },
  {
   "cell_type": "code",
   "execution_count": 11,
   "id": "381276f6",
   "metadata": {},
   "outputs": [
    {
     "data": {
      "image/png": "[encoded data removed]",
      "text/plain": [
       "<Figure size 640x480 with 1 Axes>"
      ]
     },
     "metadata": {},
     "output_type": "display_data"
    },
    {
     "name": "stdout",
     "output_type": "stream",
     "text": [
      "              precision    recall  f1-score   support\n",
      "\n",
      "      Normal       0.97      0.95      0.96       819\n",
      "       Obese       0.98      0.91      0.94       151\n",
      "  Overweight       0.84      0.95      0.89       160\n",
      " Underweight       0.79      0.86      0.82       115\n",
      "\n",
      "    accuracy                           0.94      1245\n",
      "   macro avg       0.90      0.92      0.90      1245\n",
      "weighted avg       0.94      0.94      0.94      1245\n",
      "\n",
      "Accuracy: 0.9365461847389558\n"
     ]
    }
   ],
   "source": [
    "\n",
    "# Evaluate and plot\n",
    "from sklearn.metrics import confusion_matrix\n",
    "val_preds = best_model.predict(X_val_scaled if best_model_name in ['LinearRegression','RidgeRegression','LassoRegression'] else X_val)\n",
    "\n",
    "plt.scatter(y_val, val_preds, alpha=0.6)\n",
    "plt.xlabel(\"Actual BMI\"); plt.ylabel(\"Predicted BMI\")\n",
    "plt.title(f\"{best_model_name} (R²={r2_score(y_val,val_preds):.3f})\")\n",
    "plt.show()\n",
    "\n",
    "def bmi_cat(b):\n",
    "    if b<18.5: return \"Underweight\"\n",
    "    elif b<25: return \"Normal\"\n",
    "    elif b<30: return \"Overweight\"\n",
    "    else: return \"Obese\"\n",
    "\n",
    "y_true_cat = [bmi_cat(x) for x in y_val]\n",
    "y_pred_cat = [bmi_cat(x) for x in val_preds]\n",
    "\n",
    "print(classification_report(y_true_cat, y_pred_cat))\n",
    "print(\"Accuracy:\", accuracy_score(y_true_cat, y_pred_cat))\n"
   ]
  }
 ],
 "metadata": {
  "kernelspec": {
   "display_name": "Python 3",
   "language": "python",
   "name": "python3"
  },
  "language_info": {
   "codemirror_mode": {
    "name": "ipython",
    "version": 3
   },
   "file_extension": ".py",
   "mimetype": "text/x-python",
   "name": "python",
   "nbconvert_exporter": "python",
   "pygments_lexer": "ipython3",
   "version": "3.13.7"
  }
 },
 "nbformat": 4,
 "nbformat_minor": 5
}
